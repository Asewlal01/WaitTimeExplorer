{
 "cells": [
  {
   "cell_type": "code",
   "execution_count": 1,
   "id": "initial_id",
   "metadata": {
    "collapsed": true,
    "ExecuteTime": {
     "end_time": "2023-11-27T16:37:26.545734Z",
     "start_time": "2023-11-27T16:37:26.289015100Z"
    }
   },
   "outputs": [],
   "source": [
    "import simpy\n",
    "import numpy as np"
   ]
  },
  {
   "cell_type": "code",
   "execution_count": 2,
   "outputs": [],
   "source": [
    "def customer(env, mu, counter, waiting):\n",
    "    # Time of customer arrival\n",
    "    arrival = env.now\n",
    "\n",
    "    # Time for service\n",
    "    time = np.random.exponential(1 / mu)\n",
    "    \n",
    "    # Wait until customer can get serviced\n",
    "    with counter.request(priority=time) as req:\n",
    "        yield req\n",
    "        \n",
    "        # Add waiting time\n",
    "        waiting.append(env.now - arrival)\n",
    "        # Update time\n",
    "        yield env.timeout(time)\n",
    "    "
   ],
   "metadata": {
    "collapsed": false,
    "ExecuteTime": {
     "end_time": "2023-11-27T16:37:27.911463800Z",
     "start_time": "2023-11-27T16:37:27.895840600Z"
    }
   },
   "id": "b61ef0590c6b0324"
  },
  {
   "cell_type": "code",
   "execution_count": 3,
   "outputs": [],
   "source": [
    "def source(env, number, arrival, capacity, counter, waiting):\n",
    "    # Creating customers\n",
    "    for i in range(number):\n",
    "        # Create the customer\n",
    "        c = customer(env, capacity, counter, waiting)\n",
    "        env.process(c)\n",
    "\n",
    "        # Time for new person to arrive\n",
    "        t = np.random.exponential(1 / arrival)\n",
    "        \n",
    "        # Update time\n",
    "        yield env.timeout(t)  "
   ],
   "metadata": {
    "collapsed": false,
    "ExecuteTime": {
     "end_time": "2023-11-27T16:37:28.125149900Z",
     "start_time": "2023-11-27T16:37:28.093895100Z"
    }
   },
   "id": "ee9dedd488cd6275"
  },
  {
   "cell_type": "code",
   "execution_count": 6,
   "outputs": [
    {
     "name": "stdout",
     "output_type": "stream",
     "text": [
      "lambda = 0.9\n",
      "mu = 1\n"
     ]
    }
   ],
   "source": [
    "# Parameters\n",
    "customers = 100000\n",
    "mu = 1\n",
    "rho = 0.9\n",
    "n = 1\n",
    "arrival = rho * n * mu\n",
    "print(f'lambda = {arrival}')\n",
    "print(f'mu = {mu}')\n",
    "\n",
    "# Array for waiting time\n",
    "waiting = []\n",
    "\n",
    "# Create environment\n",
    "env = simpy.Environment()\n",
    "np.random.seed(42)\n",
    "\n",
    "# Create process\n",
    "counter = simpy.PriorityResource(env, capacity=n)\n",
    "env.process(source(env, customers, arrival, rho, counter, waiting))\n",
    "env.run()\n"
   ],
   "metadata": {
    "collapsed": false,
    "ExecuteTime": {
     "end_time": "2023-11-27T16:37:37.114017300Z",
     "start_time": "2023-11-27T16:37:34.366448800Z"
    }
   },
   "id": "811e62e404223fd4"
  },
  {
   "cell_type": "code",
   "execution_count": 8,
   "outputs": [
    {
     "name": "stdout",
     "output_type": "stream",
     "text": [
      "38.876016998782184 +- 5.41339202480721\n"
     ]
    }
   ],
   "source": [
    "# Get mean and standard deviation\n",
    "waiting_mean = np.mean(waiting)\n",
    "waiting_std = np.std(waiting, ddof=1)\n",
    "\n",
    "# Get confidence interval\n",
    "waiting_conf = 1.96 * waiting_std / np.sqrt(len(waiting))\n",
    "\n",
    "# Print result?\n",
    "print(f'{waiting_mean} +- {waiting_conf}')\n"
   ],
   "metadata": {
    "collapsed": false,
    "ExecuteTime": {
     "end_time": "2023-11-27T16:37:50.704100100Z",
     "start_time": "2023-11-27T16:37:50.649331100Z"
    }
   },
   "id": "9fe5b28442613121"
  },
  {
   "cell_type": "code",
   "execution_count": null,
   "outputs": [],
   "source": [],
   "metadata": {
    "collapsed": false
   },
   "id": "666c3d18423b051c"
  }
 ],
 "metadata": {
  "kernelspec": {
   "display_name": "Python 3",
   "language": "python",
   "name": "python3"
  },
  "language_info": {
   "codemirror_mode": {
    "name": "ipython",
    "version": 2
   },
   "file_extension": ".py",
   "mimetype": "text/x-python",
   "name": "python",
   "nbconvert_exporter": "python",
   "pygments_lexer": "ipython2",
   "version": "2.7.6"
  }
 },
 "nbformat": 4,
 "nbformat_minor": 5
}
