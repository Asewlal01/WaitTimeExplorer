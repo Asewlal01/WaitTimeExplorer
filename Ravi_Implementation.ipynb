{
 "cells": [
  {
   "cell_type": "code",
   "execution_count": 76,
   "metadata": {},
   "outputs": [
    {
     "name": "stdout",
     "output_type": "stream",
     "text": [
      "0.9\n",
      "1\n",
      "9.077125209037662\n"
     ]
    }
   ],
   "source": [
    "import random\n",
    "import numpy\n",
    "import simpy\n",
    "\n",
    "RANDOM_SEED = 42\n",
    "NEW_CUSTOMERS = 100000  # Total number of customers\n",
    "num_servers = 1  # Generate new customers roughly every x seconds\n",
    "service_rate = 1  # On average, a customer is served every x seconds\n",
    "rho = 0.9\n",
    "arrival_rate = rho * service_rate*num_servers\n",
    "\n",
    "def source(env, number, arrival_rate, counter, wait_times):\n",
    "    for i in range(number):\n",
    "        c = customer(env, counter, wait_times, service_rate)\n",
    "        env.process(c)\n",
    "        t = np.random.exponential(1/arrival_rate)\n",
    "        yield env.timeout(t)\n",
    "\n",
    "def customer(env, counter, wait_times, service_rate):\n",
    "    arrive = env.now\n",
    "\n",
    "    with counter.request() as req:\n",
    "        # Wait for the counter\n",
    "        yield req\n",
    "\n",
    "        wait = env.now - arrive\n",
    "        wait_times.append(wait)\n",
    "\n",
    "        service_time = np.random.exponential(1/service_rate)\n",
    "        yield env.timeout(service_time)\n",
    "\n",
    "# Setup and start the simulation\n",
    "np.random.seed(RANDOM_SEED)\n",
    "env = simpy.Environment()\n",
    "wait_times = []\n",
    "\n",
    "# Start processes and run\n",
    "counter = simpy.Resource(env, capacity=num_servers)\n",
    "env.process(source(env, NEW_CUSTOMERS, arrival_rate, counter, wait_times))\n",
    "env.run()\n",
    "\n",
    "print(arrival_rate)\n",
    "print(service_rate)\n",
    "print(numpy.mean(wait_times))"
   ]
  }
 ],
 "metadata": {
  "kernelspec": {
   "display_name": "base",
   "language": "python",
   "name": "python3"
  },
  "language_info": {
   "codemirror_mode": {
    "name": "ipython",
    "version": 3
   },
   "file_extension": ".py",
   "mimetype": "text/x-python",
   "name": "python",
   "nbconvert_exporter": "python",
   "pygments_lexer": "ipython3",
   "version": "3.11.4"
  }
 },
 "nbformat": 4,
 "nbformat_minor": 2
}
