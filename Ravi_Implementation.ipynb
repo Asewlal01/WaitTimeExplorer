{
 "cells": [
  {
   "cell_type": "code",
   "execution_count": 76,
   "metadata": {},
   "outputs": [
    {
     "name": "stdout",
     "output_type": "stream",
     "text": [
      "0.9\n",
      "1\n",
      "9.077125209037662\n"
     ]
    }
   ],
   "source": [
    "import random\n",
    "import numpy\n",
    "import simpy\n",
    "\n",
    "RANDOM_SEED = 42\n",
    "NEW_CUSTOMERS = 100000  # Total number of customers\n",
    "num_servers = 1  # Generate new customers roughly every x seconds\n",
    "service_rate = 1  # On average, a customer is served every x seconds\n",
    "rho = 0.9\n",
    "arrival_rate = rho * service_rate*num_servers\n",
    "\n",
    "def source(env, number, arrival_rate, counter, wait_times):\n",
    "    for i in range(number):\n",
    "        c = customer(env, counter, wait_times, service_rate)\n",
    "        env.process(c)\n",
    "        t = np.random.exponential(1/arrival_rate)\n",
    "        yield env.timeout(t)\n",
    "\n",
    "def customer(env, counter, wait_times, service_rate):\n",
    "    arrive = env.now\n",
    "\n",
    "    with counter.request() as req:\n",
    "        # Wait for the counter\n",
    "        yield req\n",
    "\n",
    "        wait = env.now - arrive\n",
    "        wait_times.append(wait)\n",
    "\n",
    "        service_time = np.random.exponential(1/service_rate)\n",
    "        yield env.timeout(service_time)\n",
    "\n",
    "# Setup and start the simulation\n",
    "np.random.seed(RANDOM_SEED)\n",
    "env = simpy.Environment()\n",
    "wait_times = []\n",
    "\n",
    "# Start processes and run\n",
    "counter = simpy.Resource(env, capacity=num_servers)\n",
    "env.process(source(env, NEW_CUSTOMERS, arrival_rate, counter, wait_times))\n",
    "env.run()\n",
    "\n",
    "print(arrival_rate)\n",
    "print(service_rate)\n",
    "print(numpy.mean(wait_times))"
   ]
  },
  {
   "cell_type": "code",
   "execution_count": 19,
   "metadata": {},
   "outputs": [
    {
     "name": "stdout",
     "output_type": "stream",
     "text": [
      "3.9872361056581735\n",
      "4.620320013361941\n",
      "5.402638938608816\n",
      "6.340859397100334\n",
      "7.896007577477348\n",
      "9.896162324176865\n",
      "13.022555671417344\n",
      "18.84065630063277\n",
      "29.19827142391625\n",
      "90.38628282409034\n"
     ]
    }
   ],
   "source": [
    "import numpy as np \n",
    "from scipy.stats import ttest_1samp\n",
    "from Base import queueing_system\n",
    "\n",
    "num_servers = 1\n",
    "service_rate = 1\n",
    "\n",
    "rho = np.linspace(0.8, 0.99, 10, endpoint=True)\n",
    "mean_arrival_rate = []\n",
    "num_customers = 1000000\n",
    "convergence_num_customers = []\n",
    "for a in rho:\n",
    "    arrival_rate = a * service_rate*num_servers\n",
    "    W = queueing_system(num_customers, arrival_rate, service_rate, num_servers, seed = 42)\n",
    "    print(np.mean(W))\n",
    "\n",
    "    for b in range(2, len(W), 1000):\n",
    "        _, p = ttest_1samp(W[:b],W[-1])\n",
    "        if p > 0.01:\n",
    "            convergence_num_customers.append(b)\n",
    "            break"
   ]
  },
  {
   "cell_type": "code",
   "execution_count": 23,
   "metadata": {},
   "outputs": [
    {
     "data": {
      "text/plain": [
       "[<matplotlib.lines.Line2D at 0x1f492fa4bd0>]"
      ]
     },
     "execution_count": 23,
     "metadata": {},
     "output_type": "execute_result"
    },
    {
     "data": {
      "image/png": "[encoded data removed]",
      "text/plain": [
       "<Figure size 640x480 with 1 Axes>"
      ]
     },
     "metadata": {},
     "output_type": "display_data"
    }
   ],
   "source": [
    "from matplotlib import pyplot as plt\n",
    "plt.plot(rho[:9], convergence_num_customers[:9])"
   ]
  }
 ],
 "metadata": {
  "kernelspec": {
   "display_name": "base",
   "language": "python",
   "name": "python3"
  },
  "language_info": {
   "codemirror_mode": {
    "name": "ipython",
    "version": 3
   },
   "file_extension": ".py",
   "mimetype": "text/x-python",
   "name": "python",
   "nbconvert_exporter": "python",
   "pygments_lexer": "ipython3",
   "version": "3.11.4"
  }
 },
 "nbformat": 4,
 "nbformat_minor": 2
}
