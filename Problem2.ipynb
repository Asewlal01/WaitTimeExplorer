{
 "cells": [
  {
   "cell_type": "code",
   "execution_count": 1,
   "id": "initial_id",
   "metadata": {
    "collapsed": true,
    "ExecuteTime": {
     "end_time": "2023-11-27T16:38:41.252143500Z",
     "start_time": "2023-11-27T16:38:41.119704600Z"
    }
   },
   "outputs": [],
   "source": [
    "import simpy\n",
    "import numpy as np"
   ]
  },
  {
   "cell_type": "code",
   "execution_count": 2,
   "outputs": [],
   "source": [
    "def customer(env, mu, counter, waiting):\n",
    "    # Time of customer arrival\n",
    "    arrival = env.now\n",
    "    \n",
    "    # Wait until customer can get serviced\n",
    "    with counter.request() as req:\n",
    "        yield req\n",
    "        # Add waiting time\n",
    "        waiting.append(env.now - arrival)\n",
    "        \n",
    "        # Time for service\n",
    "        time = np.random.exponential(1 / mu)\n",
    "        \n",
    "        # Update time\n",
    "        yield env.timeout(time)\n",
    "    "
   ],
   "metadata": {
    "collapsed": false,
    "ExecuteTime": {
     "end_time": "2023-11-27T16:38:41.267730100Z",
     "start_time": "2023-11-27T16:38:41.252143500Z"
    }
   },
   "id": "b61ef0590c6b0324"
  },
  {
   "cell_type": "code",
   "execution_count": 3,
   "outputs": [],
   "source": [
    "def source(env, number, arrival, capacity, counter, waiting):\n",
    "    # Creating customers\n",
    "    for i in range(number):\n",
    "        # Create the customer\n",
    "        c = customer(env, capacity, counter, waiting)\n",
    "        env.process(c)\n",
    "        \n",
    "        # Time for new person to arrive\n",
    "        t = np.random.exponential(1 / arrival)\n",
    "        \n",
    "        # Update time\n",
    "        yield env.timeout(t)  "
   ],
   "metadata": {
    "collapsed": false,
    "ExecuteTime": {
     "end_time": "2023-11-27T16:38:41.299024700Z",
     "start_time": "2023-11-27T16:38:41.267730100Z"
    }
   },
   "id": "ee9dedd488cd6275"
  },
  {
   "cell_type": "code",
   "execution_count": 4,
   "outputs": [
    {
     "name": "stdout",
     "output_type": "stream",
     "text": [
      "lambda = 0.9\n",
      "mu = 1\n"
     ]
    }
   ],
   "source": [
    "# Parameters\n",
    "customers = 100000\n",
    "mu = 1\n",
    "rho = 0.9\n",
    "n = 1\n",
    "arrival = rho * n * mu\n",
    "print(f'lambda = {arrival}')\n",
    "print(f'mu = {mu}')\n",
    "\n",
    "# Array for waiting time\n",
    "waiting = []\n",
    "\n",
    "# Create environment\n",
    "env = simpy.Environment()\n",
    "np.random.seed(42)\n",
    "# Create process\n",
    "counter = simpy.Resource(env, capacity=n)\n",
    "env.process(source(env, customers, arrival, rho, counter, waiting))\n",
    "env.run()\n"
   ],
   "metadata": {
    "collapsed": false,
    "ExecuteTime": {
     "end_time": "2023-11-27T16:38:43.240295300Z",
     "start_time": "2023-11-27T16:38:41.283393600Z"
    }
   },
   "id": "811e62e404223fd4"
  },
  {
   "cell_type": "code",
   "execution_count": 5,
   "outputs": [
    {
     "name": "stdout",
     "output_type": "stream",
     "text": [
      "131.47596359132706 +- 0.6014387195896682\n"
     ]
    }
   ],
   "source": [
    "# Get mean and standard deviation\n",
    "waiting_mean = np.mean(waiting)\n",
    "waiting_std = np.std(waiting, ddof=1)\n",
    "\n",
    "# Get confidence interval\n",
    "waiting_conf = 1.96 * waiting_std / np.sqrt(len(waiting))\n",
    "\n",
    "# Print result\n",
    "print(f'{waiting_mean} +- {waiting_conf}')"
   ],
   "metadata": {
    "collapsed": false,
    "ExecuteTime": {
     "end_time": "2023-11-27T16:38:43.259665300Z",
     "start_time": "2023-11-27T16:38:43.244031Z"
    }
   },
   "id": "9fe5b28442613121"
  },
  {
   "cell_type": "code",
   "execution_count": null,
   "outputs": [],
   "source": [],
   "metadata": {
    "collapsed": false
   },
   "id": "333bdc408dcbfc0a"
  }
 ],
 "metadata": {
  "kernelspec": {
   "display_name": "Python 3",
   "language": "python",
   "name": "python3"
  },
  "language_info": {
   "codemirror_mode": {
    "name": "ipython",
    "version": 2
   },
   "file_extension": ".py",
   "mimetype": "text/x-python",
   "name": "python",
   "nbconvert_exporter": "python",
   "pygments_lexer": "ipython2",
   "version": "2.7.6"
  }
 },
 "nbformat": 4,
 "nbformat_minor": 5
}
