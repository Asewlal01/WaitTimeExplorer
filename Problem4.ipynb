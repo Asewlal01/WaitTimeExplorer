{
 "cells": [
  {
   "cell_type": "markdown",
   "metadata": {},
   "source": [
    "#### (4) Now experiment with different service rate distributions. On the one hand try the M/D/1 and M/D/n queues, on the other hand try a long-tail distribution. For the latter you may e.g. use a distribution where 75% of the jobs have an exponential distribution with an average service time of 1.0 and the remaining 25% an exponential distribution with an average service time of 5.0 (an example of a hyperexponential distribution)."
   ]
  },
  {
   "cell_type": "code",
   "execution_count": 1,
   "metadata": {},
   "outputs": [],
   "source": [
    "import simpy\n",
    "import numpy as np\n",
    "import matplotlib.pyplot as plt"
   ]
  },
  {
   "cell_type": "markdown",
   "metadata": {},
   "source": [
    "**M/D/1 and M/D/n queues**"
   ]
  },
  {
   "cell_type": "code",
   "execution_count": 2,
   "metadata": {},
   "outputs": [],
   "source": [
    "def customer(env, mu, counter, waiting):\n",
    "    # Time of customer arrival\n",
    "    arrival = env.now\n",
    "    \n",
    "    # Wait until customer can get serviced\n",
    "    with counter.request() as req:\n",
    "        yield req\n",
    "        # Add waiting time\n",
    "        waiting.append(env.now - arrival)\n",
    "        \n",
    "        # Time for service\n",
    "        time = 1 / mu\n",
    "        \n",
    "        # Update time\n",
    "        yield env.timeout(time)\n",
    "    "
   ]
  },
  {
   "cell_type": "code",
   "execution_count": 3,
   "metadata": {},
   "outputs": [],
   "source": [
    "def source(env, number, arrival, capacity, counter, waiting):\n",
    "    # Creating customers\n",
    "    for i in range(number):\n",
    "        # Create the customer\n",
    "        c = customer(env, capacity, counter, waiting)\n",
    "        env.process(c)\n",
    "        \n",
    "        # Time for new person to arrive\n",
    "        t = np.random.exponential(1 / arrival)\n",
    "        \n",
    "        # Update time\n",
    "        yield env.timeout(t)  "
   ]
  },
  {
   "cell_type": "code",
   "execution_count": 4,
   "metadata": {},
   "outputs": [
    {
     "name": "stdout",
     "output_type": "stream",
     "text": [
      "lambda = 0.9\n",
      "mu = 1\n"
     ]
    }
   ],
   "source": [
    "# Parameters\n",
    "customers = 100000\n",
    "mu = 1\n",
    "rho = 0.9\n",
    "n = 1\n",
    "arrival = rho * n * mu\n",
    "print(f'lambda = {arrival}')\n",
    "print(f'mu = {mu}')\n",
    "\n",
    "# Array for waiting time\n",
    "waiting = []\n",
    "\n",
    "# Create environment\n",
    "env = simpy.Environment()\n",
    "np.random.seed(42)\n",
    "# Create process\n",
    "counter = simpy.Resource(env, capacity=n)\n",
    "env.process(source(env, customers, arrival, mu, counter, waiting))\n",
    "env.run()\n"
   ]
  },
  {
   "cell_type": "code",
   "execution_count": 5,
   "metadata": {},
   "outputs": [
    {
     "name": "stdout",
     "output_type": "stream",
     "text": [
      "4.512588532182379 +- 0.028399982107603083\n"
     ]
    }
   ],
   "source": [
    "# Get mean and standard deviation\n",
    "waiting_mean = np.mean(waiting)\n",
    "waiting_std = np.std(waiting, ddof=1)\n",
    "\n",
    "# Get confidence interval\n",
    "waiting_conf = 1.96 * waiting_std / np.sqrt(len(waiting))\n",
    "\n",
    "# Print result\n",
    "print(f'{waiting_mean} +- {waiting_conf}')"
   ]
  },
  {
   "cell_type": "code",
   "execution_count": 6,
   "metadata": {},
   "outputs": [
    {
     "data": {
      "image/png": "[encoded data removed]",
      "text/plain": [
       "<Figure size 640x480 with 1 Axes>"
      ]
     },
     "metadata": {},
     "output_type": "display_data"
    }
   ],
   "source": [
    "plt.hist(waiting, bins=50, alpha=0.7)\n",
    "plt.show()"
   ]
  },
  {
   "cell_type": "markdown",
   "metadata": {},
   "source": [
    "**Service rate with a long-tail distribution**"
   ]
  },
  {
   "cell_type": "code",
   "execution_count": 7,
   "metadata": {},
   "outputs": [],
   "source": [
    "def customer(env, mu, p, counter, waiting):\n",
    "    # Time of customer arrival\n",
    "    arrival = env.now\n",
    "    \n",
    "    # Wait until customer can get serviced\n",
    "    with counter.request() as req:\n",
    "        yield req\n",
    "        # Add waiting time\n",
    "        waiting.append(env.now - arrival)\n",
    "        \n",
    "        # Time for service\n",
    "        if np.random.uniform() < p:\n",
    "            time = np.random.exponential(1/mu[0])\n",
    "        else:\n",
    "            time = np.random.exponential(1/mu[1])\n",
    "        # Update time\n",
    "        yield env.timeout(time)\n",
    "    "
   ]
  },
  {
   "cell_type": "code",
   "execution_count": 8,
   "metadata": {},
   "outputs": [],
   "source": [
    "def source(env, number, arrival, capacity, p, counter, waiting):\n",
    "    # Creating customers\n",
    "    for i in range(number):\n",
    "        # Create the customer\n",
    "        c = customer(env, capacity, p, counter, waiting)\n",
    "        env.process(c)\n",
    "        \n",
    "        # Time for new person to arrive\n",
    "        t = np.random.exponential(1 / arrival)\n",
    "        \n",
    "        # Update time\n",
    "        yield env.timeout(t)  "
   ]
  },
  {
   "cell_type": "code",
   "execution_count": 9,
   "metadata": {},
   "outputs": [
    {
     "name": "stdout",
     "output_type": "stream",
     "text": [
      "lambda = 0.7200000000000001\n",
      "mu = [1.0, 0.2]\n"
     ]
    }
   ],
   "source": [
    "# Parameters\n",
    "customers = 100000\n",
    "mu = [1., 1/5]\n",
    "p = 0.75\n",
    "rho = 0.9\n",
    "n = 1\n",
    "arrival = rho * n * (0.75 * mu[0] + 0.25 * mu[1])\n",
    "print(f'lambda = {arrival}')\n",
    "print(f'mu = {mu}')\n",
    "\n",
    "# Array for waiting time\n",
    "waiting = []\n",
    "\n",
    "# Create environment\n",
    "env = simpy.Environment()\n",
    "np.random.seed(42)\n",
    "# Create process\n",
    "counter = simpy.Resource(env, capacity=n)\n",
    "env.process(source(env, customers, arrival, mu, p, counter, waiting))\n",
    "env.run()\n"
   ]
  },
  {
   "cell_type": "code",
   "execution_count": 10,
   "metadata": {},
   "outputs": [
    {
     "name": "stdout",
     "output_type": "stream",
     "text": [
      "30258.59599363739 +- 110.60420970494698\n"
     ]
    }
   ],
   "source": [
    "# Get mean and standard deviation\n",
    "waiting_mean = np.mean(waiting)\n",
    "waiting_std = np.std(waiting, ddof=1)\n",
    "\n",
    "# Get confidence interval\n",
    "waiting_conf = 1.96 * waiting_std / np.sqrt(len(waiting))\n",
    "\n",
    "# Print result\n",
    "print(f'{waiting_mean} +- {waiting_conf}')"
   ]
  },
  {
   "cell_type": "code",
   "execution_count": 11,
   "metadata": {},
   "outputs": [
    {
     "data": {
      "image/png": "[encoded data removed]",
      "text/plain": [
       "<Figure size 640x480 with 1 Axes>"
      ]
     },
     "metadata": {},
     "output_type": "display_data"
    }
   ],
   "source": [
    "plt.hist(waiting, bins=50, alpha=0.7)\n",
    "plt.show()"
   ]
  },
  {
   "cell_type": "markdown",
   "metadata": {},
   "source": [
    "When service times follow a long-tail distribution, a phenomenon may arise where the average waiting time increases with the total number of customers, even if the overall system load $\\rho$ is less than one. This occurrence is primarily attributable to the characteristics of the long-tail distribution.\n",
    "\n",
    "#### Characteristics of Long-Tail Distribution\n",
    "A long-tail distribution, especially in the context of service times, implies that while most services might be relatively brief, a significant portion of them could be exceedingly lengthy. This distribution is characterized by high variance, indicating substantial fluctuations in service times.\n",
    "\n",
    "In the given example, 75% of service times follow an exponential distribution with $\\lambda=1$, while 25% follow an exponential distribution with $\\lambda=0.2$. The latter's average service time is five times that of the former, signifying that a considerable number of service instances will occupy an extensive amount of time.\n",
    "\n",
    "#### Scenario with System Load Less Than 1\n",
    "Even with an overall system load less than one, the long-tail distribution of service times can lead to queue instability and increased waiting times due to:\n",
    "\n",
    "- **Occasional Extended Service Times**: Infrequent occurrences of prolonged service times can lead to sudden queue build-ups, despite the service rate being adequate to handle incoming customers most of the time.\n",
    "\n",
    "- **High Variance and Unpredictability**: The long-tail distribution heightens the unpredictability of service times, potentially leading to unexpectedly high waiting times even under seemingly \"safe\" average load levels.\n",
    "\n",
    "- **Instantaneous Load Exceeding 1**: Although the average load may be less than one, specific instances of prolonged service times can result in instantaneous loads exceeding one, rapidly escalating queue lengths.\n",
    "\n",
    "#### Conclusion\n",
    "Consequently, under circumstances where service times adhere to a long-tail distribution, average waiting times may increase with the total number of customers, even if the average load is less than one. This underscores the necessity of considering the characteristics of service time distributions in the design and management of such systems, rather than solely focusing on the average service rate. In practical applications, additional measures, such as augmenting service capacity or introducing priority rules, might be required to mitigate the effects of the long-tail distribution."
   ]
  }
 ],
 "metadata": {
  "kernelspec": {
   "display_name": "base",
   "language": "python",
   "name": "python3"
  },
  "language_info": {
   "codemirror_mode": {
    "name": "ipython",
    "version": 3
   },
   "file_extension": ".py",
   "mimetype": "text/x-python",
   "name": "python",
   "nbconvert_exporter": "python",
   "pygments_lexer": "ipython3",
   "version": "3.10.9"
  }
 },
 "nbformat": 4,
 "nbformat_minor": 2
}
